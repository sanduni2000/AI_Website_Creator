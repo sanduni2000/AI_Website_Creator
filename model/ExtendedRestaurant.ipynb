{
 "cells": [
  {
   "cell_type": "code",
   "execution_count": 1,
   "id": "cf718267",
   "metadata": {},
   "outputs": [
    {
     "name": "stderr",
     "output_type": "stream",
     "text": [
      "d:\\Github\\AI_Website_Creator\\model\\Lib\\site-packages\\tqdm\\auto.py:21: TqdmWarning: IProgress not found. Please update jupyter and ipywidgets. See https://ipywidgets.readthedocs.io/en/stable/user_install.html\n",
      "  from .autonotebook import tqdm as notebook_tqdm\n"
     ]
    }
   ],
   "source": [
    "import pandas as pd\n",
    "from transformers import Trainer, TrainingArguments"
   ]
  },
  {
   "cell_type": "code",
   "execution_count": 2,
   "id": "6f94215e",
   "metadata": {},
   "outputs": [],
   "source": [
    "# Load the uploaded CSV file to preview its structure\n",
    "file_path = 'UpdatedRestaurantHTMLDataset.csv'\n",
    "data = pd.read_csv(file_path)"
   ]
  },
  {
   "cell_type": "code",
   "execution_count": 3,
   "id": "d425ee6e",
   "metadata": {},
   "outputs": [
    {
     "data": {
      "text/plain": [
       "(   Restaurant Name                                          HTML Code  \\\n",
       " 0  The Local Plate  <!DOCTYPE html>\\n    <html lang=\"en\">\\n    <he...   \n",
       " 1   Heritage Bites  <!DOCTYPE html>\\n    <html lang=\"en\">\\n    <he...   \n",
       " 2     Fusion Feast  <!DOCTYPE html>\\n    <html lang=\"en\">\\n    <he...   \n",
       " 3     Island Taste  <!DOCTYPE html>\\n    <html lang=\"en\">\\n    <he...   \n",
       " 4     Curry Corner  <!DOCTYPE html>\\n    <html lang=\"en\">\\n    <he...   \n",
       " \n",
       "                                               Prompt  \n",
       " 0  Can you provide code for a HTML page for the r...  \n",
       " 1  Can you provide code for a HTML page for the r...  \n",
       " 2  Can you provide code for a HTML page for the r...  \n",
       " 3  Can you provide code for a HTML page for the r...  \n",
       " 4  Can you provide code for a HTML page for the r...  ,\n",
       " Index(['Restaurant Name', 'HTML Code', 'Prompt'], dtype='object'))"
      ]
     },
     "execution_count": 3,
     "metadata": {},
     "output_type": "execute_result"
    }
   ],
   "source": [
    "# Display the first few rows and the column names to understand the structure\n",
    "data.head(), data.columns"
   ]
  },
  {
   "cell_type": "code",
   "execution_count": 4,
   "id": "ae82461c",
   "metadata": {},
   "outputs": [
    {
     "name": "stdout",
     "output_type": "stream",
     "text": [
      "<class 'pandas.core.frame.DataFrame'>\n",
      "RangeIndex: 1000 entries, 0 to 999\n",
      "Data columns (total 3 columns):\n",
      " #   Column           Non-Null Count  Dtype \n",
      "---  ------           --------------  ----- \n",
      " 0   Restaurant Name  1000 non-null   object\n",
      " 1   HTML Code        1000 non-null   object\n",
      " 2   Prompt           1000 non-null   object\n",
      "dtypes: object(3)\n",
      "memory usage: 23.6+ KB\n",
      "None\n"
     ]
    }
   ],
   "source": [
    "# Check data types and missing values\n",
    "print(data.info())  "
   ]
  },
  {
   "cell_type": "code",
   "execution_count": 5,
   "id": "fac63cd5",
   "metadata": {},
   "outputs": [],
   "source": [
    "#clean the data\n",
    "data['Prompt'] = data['Prompt'].str.strip()\n",
    "data['HTML Code'] = data['HTML Code'].str.strip()\n"
   ]
  },
  {
   "cell_type": "code",
   "execution_count": 6,
   "id": "de29e699",
   "metadata": {},
   "outputs": [],
   "source": [
    "#Remove duplicates\n",
    "data = data.drop_duplicates()\n"
   ]
  },
  {
   "cell_type": "code",
   "execution_count": 7,
   "id": "449edd73",
   "metadata": {},
   "outputs": [],
   "source": [
    "#Prepare for Tokenization\n",
    "inputs = data['Prompt'].tolist()  # Prompts\n",
    "outputs = data['HTML Code'].tolist()  # Corresponding HTML\n"
   ]
  },
  {
   "cell_type": "code",
   "execution_count": 8,
   "id": "55bebbd3",
   "metadata": {},
   "outputs": [],
   "source": [
    "from sklearn.model_selection import train_test_split\n",
    "\n",
    "# Split into training, validation, and test sets\n",
    "train_inputs, test_inputs, train_outputs, test_outputs = train_test_split(\n",
    "    inputs, outputs, test_size=0.2, random_state=42\n",
    ")\n",
    "val_inputs, test_inputs, val_outputs, test_outputs = train_test_split(\n",
    "    test_inputs, test_outputs, test_size=0.5, random_state=42\n",
    ")\n"
   ]
  },
  {
   "cell_type": "code",
   "execution_count": 9,
   "id": "79b631c0",
   "metadata": {},
   "outputs": [
    {
     "name": "stderr",
     "output_type": "stream",
     "text": [
      "You are using the default legacy behaviour of the <class 'transformers.models.t5.tokenization_t5.T5Tokenizer'>. This is expected, and simply means that the `legacy` (previous) behavior will be used so nothing changes for you. If you want to use the new behaviour, set `legacy=False`. This should only be set if you understand what it means, and thoroughly read the reason why this was added as explained in https://github.com/huggingface/transformers/pull/24565\n"
     ]
    }
   ],
   "source": [
    "from transformers import T5Tokenizer\n",
    "\n",
    "# Load the pre-trained tokenizer\n",
    "tokenizer = T5Tokenizer.from_pretrained(\"t5-small\")\n",
    "\n",
    "# Tokenize the training data\n",
    "train_encodings = tokenizer(train_inputs, padding=True, truncation=True, max_length=512, return_tensors=\"pt\")\n",
    "train_labels = tokenizer(train_outputs, padding=True, truncation=True, max_length=512, return_tensors=\"pt\")\n",
    "\n",
    "# Tokenize validation data\n",
    "val_encodings = tokenizer(val_inputs, padding=True, truncation=True, max_length=512, return_tensors=\"pt\")\n",
    "val_labels = tokenizer(val_outputs, padding=True, truncation=True, max_length=512, return_tensors=\"pt\")\n"
   ]
  },
  {
   "cell_type": "code",
   "execution_count": 10,
   "id": "7c83fe24",
   "metadata": {},
   "outputs": [],
   "source": [
    "#organize tokenized data\n",
    "train_encodings = tokenizer(train_inputs, padding=True, truncation=True, max_length=512, return_tensors=\"pt\")\n",
    "train_labels = tokenizer(train_outputs, padding=True, truncation=True, max_length=512, return_tensors=\"pt\")\n",
    "\n",
    "val_encodings = tokenizer(val_inputs, padding=True, truncation=True, max_length=512, return_tensors=\"pt\")\n",
    "val_labels = tokenizer(val_outputs, padding=True, truncation=True, max_length=512, return_tensors=\"pt\")\n"
   ]
  },
  {
   "cell_type": "code",
   "execution_count": 11,
   "id": "86dccae1",
   "metadata": {},
   "outputs": [],
   "source": [
    "#Create a dataset class to handle tokenized data\n",
    "import torch\n",
    "\n",
    "class HTMLDataset(torch.utils.data.Dataset):\n",
    "    def __init__(self, encodings, labels):\n",
    "        self.encodings = encodings\n",
    "        self.labels = labels\n",
    "\n",
    "    def __len__(self):\n",
    "        return len(self.encodings[\"input_ids\"])\n",
    "\n",
    "    def __getitem__(self, idx):\n",
    "        return {\n",
    "            \"input_ids\": self.encodings[\"input_ids\"][idx],\n",
    "            \"attention_mask\": self.encodings[\"attention_mask\"][idx],\n",
    "            \"labels\": self.labels[\"input_ids\"][idx],\n",
    "        }\n",
    "\n",
    "# Create PyTorch Datasets\n",
    "train_dataset = HTMLDataset(train_encodings, train_labels)\n",
    "val_dataset = HTMLDataset(val_encodings, val_labels)\n"
   ]
  },
  {
   "cell_type": "code",
   "execution_count": 12,
   "id": "a867a10c",
   "metadata": {},
   "outputs": [],
   "source": [
    "from transformers import T5ForConditionalGeneration\n",
    "\n",
    "# Load the pre-trained T5 model\n",
    "model = T5ForConditionalGeneration.from_pretrained(\"t5-small\")\n"
   ]
  },
  {
   "cell_type": "code",
   "execution_count": 13,
   "id": "69c063ef",
   "metadata": {},
   "outputs": [
    {
     "name": "stderr",
     "output_type": "stream",
     "text": [
      "d:\\Github\\AI_Website_Creator\\model\\Lib\\site-packages\\transformers\\training_args.py:1568: FutureWarning: `evaluation_strategy` is deprecated and will be removed in version 4.46 of 🤗 Transformers. Use `eval_strategy` instead\n",
      "  warnings.warn(\n"
     ]
    }
   ],
   "source": [
    "from transformers import Trainer, TrainingArguments\n",
    "\n",
    "# Define training arguments\n",
    "training_args = TrainingArguments(\n",
    "    output_dir=\"./results\",            # Output directory for model checkpoints\n",
    "    num_train_epochs=3,                # Number of training epochs\n",
    "    per_device_train_batch_size=8,     # Batch size per device\n",
    "    per_device_eval_batch_size=8,      # Eval batch size\n",
    "    save_steps=500,                    # Save model every 500 steps\n",
    "    save_total_limit=2,                # Limit to 2 checkpoints\n",
    "    evaluation_strategy=\"epoch\",       # Evaluate after each epoch\n",
    "    logging_dir=\"./logs\",              # Log directory\n",
    "    logging_steps=100,                 # Log every 100 steps\n",
    "    report_to=None,                    # Disable reporting to external services\n",
    ")\n",
    "\n",
    "# Define the Trainer\n",
    "trainer = Trainer(\n",
    "    model=model,\n",
    "    args=training_args,\n",
    "    train_dataset=train_dataset,\n",
    "    eval_dataset=val_dataset,\n",
    ")"
   ]
  },
  {
   "cell_type": "code",
   "execution_count": 14,
   "id": "b3707032",
   "metadata": {},
   "outputs": [
    {
     "name": "stderr",
     "output_type": "stream",
     "text": [
      "  0%|          | 0/300 [00:00<?, ?it/s]Passing a tuple of `past_key_values` is deprecated and will be removed in Transformers v4.48.0. You should pass an instance of `EncoderDecoderCache` instead, e.g. `past_key_values=EncoderDecoderCache.from_legacy_cache(past_key_values)`.\n",
      " 33%|███▎      | 100/300 [21:07<41:10, 12.35s/it] "
     ]
    },
    {
     "name": "stdout",
     "output_type": "stream",
     "text": [
      "{'loss': 3.7028, 'grad_norm': 4.292418479919434, 'learning_rate': 3.3333333333333335e-05, 'epoch': 1.0}\n"
     ]
    },
    {
     "name": "stderr",
     "output_type": "stream",
     "text": [
      "                                                 \n",
      " 33%|███▎      | 100/300 [21:59<41:10, 12.35s/it]"
     ]
    },
    {
     "name": "stdout",
     "output_type": "stream",
     "text": [
      "{'eval_loss': 1.6841763257980347, 'eval_runtime': 52.1169, 'eval_samples_per_second': 1.919, 'eval_steps_per_second': 0.249, 'epoch': 1.0}\n"
     ]
    },
    {
     "name": "stderr",
     "output_type": "stream",
     "text": [
      " 67%|██████▋   | 200/300 [42:31<20:39, 12.39s/it]  "
     ]
    },
    {
     "name": "stdout",
     "output_type": "stream",
     "text": [
      "{'loss': 1.8287, 'grad_norm': 1.0016908645629883, 'learning_rate': 1.6666666666666667e-05, 'epoch': 2.0}\n"
     ]
    },
    {
     "name": "stderr",
     "output_type": "stream",
     "text": [
      "                                                 \n",
      " 67%|██████▋   | 200/300 [43:22<20:39, 12.39s/it]"
     ]
    },
    {
     "name": "stdout",
     "output_type": "stream",
     "text": [
      "{'eval_loss': 0.8792949914932251, 'eval_runtime': 51.225, 'eval_samples_per_second': 1.952, 'eval_steps_per_second': 0.254, 'epoch': 2.0}\n"
     ]
    },
    {
     "name": "stderr",
     "output_type": "stream",
     "text": [
      "100%|██████████| 300/300 [1:03:45<00:00, 12.10s/it]"
     ]
    },
    {
     "name": "stdout",
     "output_type": "stream",
     "text": [
      "{'loss': 1.3364, 'grad_norm': 3.8572030067443848, 'learning_rate': 0.0, 'epoch': 3.0}\n"
     ]
    },
    {
     "name": "stderr",
     "output_type": "stream",
     "text": [
      "                                                   \n",
      "100%|██████████| 300/300 [1:04:37<00:00, 12.93s/it]"
     ]
    },
    {
     "name": "stdout",
     "output_type": "stream",
     "text": [
      "{'eval_loss': 0.701389491558075, 'eval_runtime': 50.5125, 'eval_samples_per_second': 1.98, 'eval_steps_per_second': 0.257, 'epoch': 3.0}\n",
      "{'train_runtime': 3877.558, 'train_samples_per_second': 0.619, 'train_steps_per_second': 0.077, 'train_loss': 2.289268595377604, 'epoch': 3.0}\n"
     ]
    },
    {
     "name": "stderr",
     "output_type": "stream",
     "text": [
      "\n"
     ]
    }
   ],
   "source": [
    "# Train the model and store the training metrics\n",
    "train_output = trainer.train()"
   ]
  },
  {
   "cell_type": "code",
   "execution_count": 15,
   "id": "a80fb74a",
   "metadata": {},
   "outputs": [],
   "source": [
    "# Extract the training loss for each epoch\n",
    "training_metrics = train_output.metrics\n",
    "training_loss = training_metrics[\"train_loss\"]"
   ]
  },
  {
   "cell_type": "code",
   "execution_count": 16,
   "id": "f0de7fbe",
   "metadata": {},
   "outputs": [
    {
     "data": {
      "image/png": "[encoded data removed]",
      "text/plain": [
       "<Figure size 640x480 with 1 Axes>"
      ]
     },
     "metadata": {},
     "output_type": "display_data"
    }
   ],
   "source": [
    "# Plot training loss\n",
    "import matplotlib.pyplot as plt\n",
    "\n",
    "epochs = list(range(1, int(training_args.num_train_epochs) + 1))\n",
    "plt.plot(epochs, [training_loss] * len(epochs), label=\"Training Loss\")\n",
    "plt.xlabel(\"Epochs\")\n",
    "plt.ylabel(\"Loss\")\n",
    "plt.title(\"Training Loss Over Epochs\")\n",
    "plt.legend()\n",
    "plt.show()"
   ]
  },
  {
   "cell_type": "code",
   "execution_count": 17,
   "id": "440d5925",
   "metadata": {},
   "outputs": [
    {
     "name": "stderr",
     "output_type": "stream",
     "text": [
      "100%|██████████| 13/13 [00:41<00:00,  3.20s/it]"
     ]
    },
    {
     "name": "stdout",
     "output_type": "stream",
     "text": [
      "{'eval_loss': 0.701389491558075, 'eval_runtime': 45.1205, 'eval_samples_per_second': 2.216, 'eval_steps_per_second': 0.288, 'epoch': 3.0}\n"
     ]
    },
    {
     "name": "stderr",
     "output_type": "stream",
     "text": [
      "\n"
     ]
    }
   ],
   "source": [
    "eval_results = trainer.evaluate()\n",
    "print(eval_results)\n"
   ]
  },
  {
   "cell_type": "code",
   "execution_count": 18,
   "id": "43a01a55",
   "metadata": {},
   "outputs": [],
   "source": [
    "trainer.save_model(\"./final_model\")"
   ]
  },
  {
   "cell_type": "code",
   "execution_count": 19,
   "id": "7431e1fd",
   "metadata": {},
   "outputs": [
    {
     "name": "stdout",
     "output_type": "stream",
     "text": [
      "Tokenized data saved successfully!\n"
     ]
    }
   ],
   "source": [
    "import torch\n",
    "\n",
    "# Save the tokenized data\n",
    "torch.save(train_encodings, \"train_encodings.pt\")\n",
    "torch.save(train_labels, \"train_labels.pt\")\n",
    "torch.save(val_encodings, \"val_encodings.pt\")\n",
    "torch.save(val_labels, \"val_labels.pt\")\n",
    "\n",
    "# Save the tokenizer\n",
    "tokenizer.save_pretrained(\"./final_model\")\n",
    "\n",
    "print(\"Tokenized data saved successfully!\")\n"
   ]
  },
  {
   "cell_type": "code",
   "execution_count": 20,
   "id": "ec4cc0f7",
   "metadata": {},
   "outputs": [
    {
     "name": "stdout",
     "output_type": "stream",
     "text": [
      "Tokenized data loaded successfully!\n"
     ]
    },
    {
     "name": "stderr",
     "output_type": "stream",
     "text": [
      "C:\\Users\\rajendrak\\AppData\\Local\\Temp\\ipykernel_19852\\363035855.py:2: FutureWarning: You are using `torch.load` with `weights_only=False` (the current default value), which uses the default pickle module implicitly. It is possible to construct malicious pickle data which will execute arbitrary code during unpickling (See https://github.com/pytorch/pytorch/blob/main/SECURITY.md#untrusted-models for more details). In a future release, the default value for `weights_only` will be flipped to `True`. This limits the functions that could be executed during unpickling. Arbitrary objects will no longer be allowed to be loaded via this mode unless they are explicitly allowlisted by the user via `torch.serialization.add_safe_globals`. We recommend you start setting `weights_only=True` for any use case where you don't have full control of the loaded file. Please open an issue on GitHub for any issues related to this experimental feature.\n",
      "  train_encodings = torch.load(\"train_encodings.pt\")\n",
      "C:\\Users\\rajendrak\\AppData\\Local\\Temp\\ipykernel_19852\\363035855.py:3: FutureWarning: You are using `torch.load` with `weights_only=False` (the current default value), which uses the default pickle module implicitly. It is possible to construct malicious pickle data which will execute arbitrary code during unpickling (See https://github.com/pytorch/pytorch/blob/main/SECURITY.md#untrusted-models for more details). In a future release, the default value for `weights_only` will be flipped to `True`. This limits the functions that could be executed during unpickling. Arbitrary objects will no longer be allowed to be loaded via this mode unless they are explicitly allowlisted by the user via `torch.serialization.add_safe_globals`. We recommend you start setting `weights_only=True` for any use case where you don't have full control of the loaded file. Please open an issue on GitHub for any issues related to this experimental feature.\n",
      "  train_labels = torch.load(\"train_labels.pt\")\n",
      "C:\\Users\\rajendrak\\AppData\\Local\\Temp\\ipykernel_19852\\363035855.py:4: FutureWarning: You are using `torch.load` with `weights_only=False` (the current default value), which uses the default pickle module implicitly. It is possible to construct malicious pickle data which will execute arbitrary code during unpickling (See https://github.com/pytorch/pytorch/blob/main/SECURITY.md#untrusted-models for more details). In a future release, the default value for `weights_only` will be flipped to `True`. This limits the functions that could be executed during unpickling. Arbitrary objects will no longer be allowed to be loaded via this mode unless they are explicitly allowlisted by the user via `torch.serialization.add_safe_globals`. We recommend you start setting `weights_only=True` for any use case where you don't have full control of the loaded file. Please open an issue on GitHub for any issues related to this experimental feature.\n",
      "  val_encodings = torch.load(\"val_encodings.pt\")\n",
      "C:\\Users\\rajendrak\\AppData\\Local\\Temp\\ipykernel_19852\\363035855.py:5: FutureWarning: You are using `torch.load` with `weights_only=False` (the current default value), which uses the default pickle module implicitly. It is possible to construct malicious pickle data which will execute arbitrary code during unpickling (See https://github.com/pytorch/pytorch/blob/main/SECURITY.md#untrusted-models for more details). In a future release, the default value for `weights_only` will be flipped to `True`. This limits the functions that could be executed during unpickling. Arbitrary objects will no longer be allowed to be loaded via this mode unless they are explicitly allowlisted by the user via `torch.serialization.add_safe_globals`. We recommend you start setting `weights_only=True` for any use case where you don't have full control of the loaded file. Please open an issue on GitHub for any issues related to this experimental feature.\n",
      "  val_labels = torch.load(\"val_labels.pt\")\n"
     ]
    }
   ],
   "source": [
    "# Load the tokenized data\n",
    "train_encodings = torch.load(\"train_encodings.pt\")\n",
    "train_labels = torch.load(\"train_labels.pt\")\n",
    "val_encodings = torch.load(\"val_encodings.pt\")\n",
    "val_labels = torch.load(\"val_labels.pt\")\n",
    "\n",
    "print(\"Tokenized data loaded successfully!\")\n"
   ]
  },
  {
   "cell_type": "code",
   "execution_count": 21,
   "id": "1569156a",
   "metadata": {},
   "outputs": [
    {
     "name": "stdout",
     "output_type": "stream",
     "text": [
      "Prompt: Can you provide a html page for my My Fancy Restaurant\n",
      "Generated HTML:\n",
      " html> html html head> meta en html meta en html meta en html meta en html meta en html meta en html meta en html meta en html meta en html meta My Fancy Restaurant meta en faon./html\n"
     ]
    }
   ],
   "source": [
    "# Test input\n",
    "test_prompt = \"Can you provide a html page for my My Fancy Restaurant\"\n",
    "\n",
    "# Tokenize the input\n",
    "input_ids = tokenizer(test_prompt, return_tensors=\"pt\").input_ids\n",
    "\n",
    "# Generate output from the model\n",
    "output_ids = model.generate(input_ids, max_length=512)\n",
    "\n",
    "# Decode the output to HTML\n",
    "generated_html = tokenizer.decode(output_ids[0], skip_special_tokens=True)\n",
    "\n",
    "# Display the result\n",
    "print(\"Prompt:\", test_prompt)\n",
    "print(\"Generated HTML:\\n\", generated_html)\n"
   ]
  }
 ],
 "metadata": {
  "kernelspec": {
   "display_name": "model",
   "language": "python",
   "name": "python3"
  },
  "language_info": {
   "codemirror_mode": {
    "name": "ipython",
    "version": 3
   },
   "file_extension": ".py",
   "mimetype": "text/x-python",
   "name": "python",
   "nbconvert_exporter": "python",
   "pygments_lexer": "ipython3",
   "version": "3.11.9"
  }
 },
 "nbformat": 4,
 "nbformat_minor": 5
}
