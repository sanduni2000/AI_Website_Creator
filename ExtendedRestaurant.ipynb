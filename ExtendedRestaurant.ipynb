{
 "cells": [
  {
   "cell_type": "code",
   "execution_count": 1,
   "id": "cf718267",
   "metadata": {},
   "outputs": [],
   "source": [
    "import pandas as pd"
   ]
  },
  {
   "cell_type": "code",
   "execution_count": 2,
   "id": "6f94215e",
   "metadata": {},
   "outputs": [],
   "source": [
    "# Load the uploaded CSV file to preview its structure\n",
    "file_path = 'C:\\\\Users\\\\User\\\\Desktop\\\\ExtendedRestaurantHTMLDataset.csv'\n",
    "data = pd.read_csv(file_path)"
   ]
  },
  {
   "cell_type": "code",
   "execution_count": 3,
   "id": "d425ee6e",
   "metadata": {},
   "outputs": [
    {
     "data": {
      "text/plain": [
       "(   Restaurant Name                                          HTML Code\n",
       " 0  The Local Plate  <!DOCTYPE html>\\n    <html lang=\"en\">\\n    <he...\n",
       " 1   Heritage Bites  <!DOCTYPE html>\\n    <html lang=\"en\">\\n    <he...\n",
       " 2     Fusion Feast  <!DOCTYPE html>\\n    <html lang=\"en\">\\n    <he...\n",
       " 3     Island Taste  <!DOCTYPE html>\\n    <html lang=\"en\">\\n    <he...\n",
       " 4     Curry Corner  <!DOCTYPE html>\\n    <html lang=\"en\">\\n    <he...,\n",
       " Index(['Restaurant Name', 'HTML Code'], dtype='object'))"
      ]
     },
     "execution_count": 3,
     "metadata": {},
     "output_type": "execute_result"
    }
   ],
   "source": [
    "# Display the first few rows and the column names to understand the structure\n",
    "data.head(), data.columns"
   ]
  },
  {
   "cell_type": "code",
   "execution_count": 4,
   "id": "ae82461c",
   "metadata": {},
   "outputs": [
    {
     "name": "stdout",
     "output_type": "stream",
     "text": [
      "<class 'pandas.core.frame.DataFrame'>\n",
      "RangeIndex: 1000 entries, 0 to 999\n",
      "Data columns (total 2 columns):\n",
      " #   Column           Non-Null Count  Dtype \n",
      "---  ------           --------------  ----- \n",
      " 0   Restaurant Name  1000 non-null   object\n",
      " 1   HTML Code        1000 non-null   object\n",
      "dtypes: object(2)\n",
      "memory usage: 15.8+ KB\n",
      "None\n"
     ]
    }
   ],
   "source": [
    "# Check data types and missing values\n",
    "print(data.info())  "
   ]
  },
  {
   "cell_type": "code",
   "execution_count": 5,
   "id": "fac63cd5",
   "metadata": {},
   "outputs": [],
   "source": [
    "#clean the data\n",
    "data['Restaurant Name'] = data['Restaurant Name'].str.strip()\n",
    "data['HTML Code'] = data['HTML Code'].str.strip()\n"
   ]
  },
  {
   "cell_type": "code",
   "execution_count": 6,
   "id": "de29e699",
   "metadata": {},
   "outputs": [],
   "source": [
    "#Remove duplicates\n",
    "data = data.drop_duplicates()\n"
   ]
  },
  {
   "cell_type": "code",
   "execution_count": 7,
   "id": "449edd73",
   "metadata": {},
   "outputs": [],
   "source": [
    "#Prepare for Tokenization\n",
    "inputs = data['Restaurant Name'].tolist()  # Prompts\n",
    "outputs = data['HTML Code'].tolist()  # Corresponding HTML\n"
   ]
  },
  {
   "cell_type": "code",
   "execution_count": 8,
   "id": "55bebbd3",
   "metadata": {},
   "outputs": [],
   "source": [
    "from sklearn.model_selection import train_test_split\n",
    "\n",
    "# Split into training, validation, and test sets\n",
    "train_inputs, test_inputs, train_outputs, test_outputs = train_test_split(\n",
    "    inputs, outputs, test_size=0.2, random_state=42\n",
    ")\n",
    "val_inputs, test_inputs, val_outputs, test_outputs = train_test_split(\n",
    "    test_inputs, test_outputs, test_size=0.5, random_state=42\n",
    ")\n"
   ]
  },
  {
   "cell_type": "code",
   "execution_count": 9,
   "id": "79b631c0",
   "metadata": {},
   "outputs": [
    {
     "name": "stderr",
     "output_type": "stream",
     "text": [
      "You are using the default legacy behaviour of the <class 'transformers.models.t5.tokenization_t5.T5Tokenizer'>. This is expected, and simply means that the `legacy` (previous) behavior will be used so nothing changes for you. If you want to use the new behaviour, set `legacy=False`. This should only be set if you understand what it means, and thoroughly read the reason why this was added as explained in https://github.com/huggingface/transformers/pull/24565\n"
     ]
    }
   ],
   "source": [
    "from transformers import T5Tokenizer\n",
    "\n",
    "# Load the pre-trained tokenizer\n",
    "tokenizer = T5Tokenizer.from_pretrained(\"t5-small\")\n",
    "\n",
    "# Tokenize the training data\n",
    "train_encodings = tokenizer(train_inputs, padding=True, truncation=True, max_length=512, return_tensors=\"pt\")\n",
    "train_labels = tokenizer(train_outputs, padding=True, truncation=True, max_length=512, return_tensors=\"pt\")\n",
    "\n",
    "# Tokenize validation data\n",
    "val_encodings = tokenizer(val_inputs, padding=True, truncation=True, max_length=512, return_tensors=\"pt\")\n",
    "val_labels = tokenizer(val_outputs, padding=True, truncation=True, max_length=512, return_tensors=\"pt\")\n"
   ]
  },
  {
   "cell_type": "code",
   "execution_count": 10,
   "id": "7c83fe24",
   "metadata": {},
   "outputs": [],
   "source": [
    "#organize tokenized data\n",
    "train_encodings = tokenizer(train_inputs, padding=True, truncation=True, max_length=512, return_tensors=\"pt\")\n",
    "train_labels = tokenizer(train_outputs, padding=True, truncation=True, max_length=512, return_tensors=\"pt\")\n",
    "\n",
    "val_encodings = tokenizer(val_inputs, padding=True, truncation=True, max_length=512, return_tensors=\"pt\")\n",
    "val_labels = tokenizer(val_outputs, padding=True, truncation=True, max_length=512, return_tensors=\"pt\")\n"
   ]
  },
  {
   "cell_type": "code",
   "execution_count": 11,
   "id": "86dccae1",
   "metadata": {},
   "outputs": [],
   "source": [
    "#Create a dataset class to handle tokenized data\n",
    "import torch\n",
    "\n",
    "class HTMLDataset(torch.utils.data.Dataset):\n",
    "    def __init__(self, encodings, labels):\n",
    "        self.encodings = encodings\n",
    "        self.labels = labels\n",
    "\n",
    "    def __len__(self):\n",
    "        return len(self.encodings[\"input_ids\"])\n",
    "\n",
    "    def __getitem__(self, idx):\n",
    "        return {\n",
    "            \"input_ids\": self.encodings[\"input_ids\"][idx],\n",
    "            \"attention_mask\": self.encodings[\"attention_mask\"][idx],\n",
    "            \"labels\": self.labels[\"input_ids\"][idx],\n",
    "        }\n",
    "\n",
    "# Create PyTorch Datasets\n",
    "train_dataset = HTMLDataset(train_encodings, train_labels)\n",
    "val_dataset = HTMLDataset(val_encodings, val_labels)\n"
   ]
  },
  {
   "cell_type": "code",
   "execution_count": 12,
   "id": "a867a10c",
   "metadata": {},
   "outputs": [
    {
     "name": "stderr",
     "output_type": "stream",
     "text": [
      "C:\\Users\\User\\anaconda3\\lib\\site-packages\\torchvision\\datapoints\\__init__.py:12: UserWarning: The torchvision.datapoints and torchvision.transforms.v2 namespaces are still Beta. While we do not expect major breaking changes, some APIs may still change according to user feedback. Please submit any feedback you may have in this issue: https://github.com/pytorch/vision/issues/6753, and you can also check out https://github.com/pytorch/vision/issues/7319 to learn more about the APIs that we suspect might involve future changes. You can silence this warning by calling torchvision.disable_beta_transforms_warning().\n",
      "  warnings.warn(_BETA_TRANSFORMS_WARNING)\n",
      "C:\\Users\\User\\anaconda3\\lib\\site-packages\\torchvision\\transforms\\v2\\__init__.py:54: UserWarning: The torchvision.datapoints and torchvision.transforms.v2 namespaces are still Beta. While we do not expect major breaking changes, some APIs may still change according to user feedback. Please submit any feedback you may have in this issue: https://github.com/pytorch/vision/issues/6753, and you can also check out https://github.com/pytorch/vision/issues/7319 to learn more about the APIs that we suspect might involve future changes. You can silence this warning by calling torchvision.disable_beta_transforms_warning().\n",
      "  warnings.warn(_BETA_TRANSFORMS_WARNING)\n"
     ]
    }
   ],
   "source": [
    "from transformers import T5ForConditionalGeneration\n",
    "\n",
    "# Load the pre-trained T5 model\n",
    "model = T5ForConditionalGeneration.from_pretrained(\"t5-small\")\n"
   ]
  },
  {
   "cell_type": "code",
   "execution_count": 13,
   "id": "69c063ef",
   "metadata": {},
   "outputs": [
    {
     "name": "stderr",
     "output_type": "stream",
     "text": [
      "C:\\Users\\User\\anaconda3\\lib\\site-packages\\transformers\\training_args.py:1568: FutureWarning: `evaluation_strategy` is deprecated and will be removed in version 4.46 of 🤗 Transformers. Use `eval_strategy` instead\n",
      "  warnings.warn(\n"
     ]
    }
   ],
   "source": [
    "from transformers import Trainer, TrainingArguments\n",
    "\n",
    "# Define training arguments\n",
    "training_args = TrainingArguments(\n",
    "    output_dir=\"./results\",            # Output directory for model checkpoints\n",
    "    num_train_epochs=3,                # Number of training epochs\n",
    "    per_device_train_batch_size=8,     # Batch size per device\n",
    "    per_device_eval_batch_size=8,      # Eval batch size\n",
    "    save_steps=500,                    # Save model every 500 steps\n",
    "    save_total_limit=2,                # Limit to 2 checkpoints\n",
    "    evaluation_strategy=\"epoch\",       # Evaluate after each epoch\n",
    "    logging_dir=\"./logs\",              # Log directory\n",
    "    logging_steps=100,                 # Log every 100 steps\n",
    ")\n",
    "\n",
    "# Define the Trainer\n",
    "trainer = Trainer(\n",
    "    model=model,\n",
    "    args=training_args,\n",
    "    train_dataset=train_dataset,\n",
    "    eval_dataset=val_dataset,\n",
    ")\n"
   ]
  },
  {
   "cell_type": "code",
   "execution_count": 18,
   "id": "b3707032",
   "metadata": {},
   "outputs": [
    {
     "name": "stderr",
     "output_type": "stream",
     "text": [
      "Passing a tuple of `past_key_values` is deprecated and will be removed in Transformers v4.48.0. You should pass an instance of `EncoderDecoderCache` instead, e.g. `past_key_values=EncoderDecoderCache.from_legacy_cache(past_key_values)`.\n"
     ]
    },
    {
     "data": {
      "text/html": [
       "\n",
       "    <div>\n",
       "      \n",
       "      <progress value='300' max='300' style='width:300px; height:20px; vertical-align: middle;'></progress>\n",
       "      [300/300 1:14:04, Epoch 3/3]\n",
       "    </div>\n",
       "    <table border=\"1\" class=\"dataframe\">\n",
       "  <thead>\n",
       " <tr style=\"text-align: left;\">\n",
       "      <th>Epoch</th>\n",
       "      <th>Training Loss</th>\n",
       "      <th>Validation Loss</th>\n",
       "    </tr>\n",
       "  </thead>\n",
       "  <tbody>\n",
       "    <tr>\n",
       "      <td>1</td>\n",
       "      <td>4.851200</td>\n",
       "      <td>2.476302</td>\n",
       "    </tr>\n",
       "    <tr>\n",
       "      <td>2</td>\n",
       "      <td>2.409100</td>\n",
       "      <td>1.351454</td>\n",
       "    </tr>\n",
       "    <tr>\n",
       "      <td>3</td>\n",
       "      <td>1.806200</td>\n",
       "      <td>1.123533</td>\n",
       "    </tr>\n",
       "  </tbody>\n",
       "</table><p>"
      ],
      "text/plain": [
       "<IPython.core.display.HTML object>"
      ]
     },
     "metadata": {},
     "output_type": "display_data"
    },
    {
     "data": {
      "text/plain": [
       "TrainOutput(global_step=300, training_loss=3.022161661783854, metrics={'train_runtime': 4469.9469, 'train_samples_per_second': 0.537, 'train_steps_per_second': 0.067, 'total_flos': 3806488166400.0, 'train_loss': 3.022161661783854, 'epoch': 3.0})"
      ]
     },
     "execution_count": 18,
     "metadata": {},
     "output_type": "execute_result"
    }
   ],
   "source": [
    "trainer.train()\n"
   ]
  },
  {
   "cell_type": "code",
   "execution_count": 19,
   "id": "440d5925",
   "metadata": {},
   "outputs": [
    {
     "data": {
      "text/html": [
       "\n",
       "    <div>\n",
       "      \n",
       "      <progress value='26' max='13' style='width:300px; height:20px; vertical-align: middle;'></progress>\n",
       "      [13/13 32:42]\n",
       "    </div>\n",
       "    "
      ],
      "text/plain": [
       "<IPython.core.display.HTML object>"
      ]
     },
     "metadata": {},
     "output_type": "display_data"
    },
    {
     "name": "stdout",
     "output_type": "stream",
     "text": [
      "{'eval_loss': 1.1235334873199463, 'eval_runtime': 66.5135, 'eval_samples_per_second': 1.503, 'eval_steps_per_second': 0.195, 'epoch': 3.0}\n"
     ]
    }
   ],
   "source": [
    "eval_results = trainer.evaluate()\n",
    "print(eval_results)\n"
   ]
  },
  {
   "cell_type": "code",
   "execution_count": 24,
   "id": "087ad798",
   "metadata": {},
   "outputs": [
    {
     "data": {
      "text/html": [
       "\n",
       "    <div>\n",
       "      \n",
       "      <progress value='300' max='300' style='width:300px; height:20px; vertical-align: middle;'></progress>\n",
       "      [300/300 1:14:39, Epoch 3/3]\n",
       "    </div>\n",
       "    <table border=\"1\" class=\"dataframe\">\n",
       "  <thead>\n",
       " <tr style=\"text-align: left;\">\n",
       "      <th>Epoch</th>\n",
       "      <th>Training Loss</th>\n",
       "      <th>Validation Loss</th>\n",
       "    </tr>\n",
       "  </thead>\n",
       "  <tbody>\n",
       "    <tr>\n",
       "      <td>1</td>\n",
       "      <td>1.303800</td>\n",
       "      <td>0.525893</td>\n",
       "    </tr>\n",
       "    <tr>\n",
       "      <td>2</td>\n",
       "      <td>0.841500</td>\n",
       "      <td>0.348564</td>\n",
       "    </tr>\n",
       "    <tr>\n",
       "      <td>3</td>\n",
       "      <td>0.691400</td>\n",
       "      <td>0.311895</td>\n",
       "    </tr>\n",
       "  </tbody>\n",
       "</table><p>"
      ],
      "text/plain": [
       "<IPython.core.display.HTML object>"
      ]
     },
     "metadata": {},
     "output_type": "display_data"
    },
    {
     "data": {
      "text/html": [
       "\n",
       "    <div>\n",
       "      \n",
       "      <progress value='300' max='300' style='width:300px; height:20px; vertical-align: middle;'></progress>\n",
       "      [300/300 1:15:09, Epoch 3/3]\n",
       "    </div>\n",
       "    <table border=\"1\" class=\"dataframe\">\n",
       "  <thead>\n",
       " <tr style=\"text-align: left;\">\n",
       "      <th>Epoch</th>\n",
       "      <th>Training Loss</th>\n",
       "      <th>Validation Loss</th>\n",
       "    </tr>\n",
       "  </thead>\n",
       "  <tbody>\n",
       "    <tr>\n",
       "      <td>1</td>\n",
       "      <td>0.557400</td>\n",
       "      <td>0.206097</td>\n",
       "    </tr>\n",
       "    <tr>\n",
       "      <td>2</td>\n",
       "      <td>0.423800</td>\n",
       "      <td>0.175121</td>\n",
       "    </tr>\n",
       "    <tr>\n",
       "      <td>3</td>\n",
       "      <td>0.378200</td>\n",
       "      <td>0.166407</td>\n",
       "    </tr>\n",
       "  </tbody>\n",
       "</table><p>"
      ],
      "text/plain": [
       "<IPython.core.display.HTML object>"
      ]
     },
     "metadata": {},
     "output_type": "display_data"
    },
    {
     "data": {
      "text/html": [
       "\n",
       "    <div>\n",
       "      \n",
       "      <progress value='300' max='300' style='width:300px; height:20px; vertical-align: middle;'></progress>\n",
       "      [300/300 1:20:28, Epoch 3/3]\n",
       "    </div>\n",
       "    <table border=\"1\" class=\"dataframe\">\n",
       "  <thead>\n",
       " <tr style=\"text-align: left;\">\n",
       "      <th>Epoch</th>\n",
       "      <th>Training Loss</th>\n",
       "      <th>Validation Loss</th>\n",
       "    </tr>\n",
       "  </thead>\n",
       "  <tbody>\n",
       "    <tr>\n",
       "      <td>1</td>\n",
       "      <td>0.329800</td>\n",
       "      <td>0.138618</td>\n",
       "    </tr>\n",
       "    <tr>\n",
       "      <td>2</td>\n",
       "      <td>0.278000</td>\n",
       "      <td>0.127616</td>\n",
       "    </tr>\n",
       "    <tr>\n",
       "      <td>3</td>\n",
       "      <td>0.257600</td>\n",
       "      <td>0.125021</td>\n",
       "    </tr>\n",
       "  </tbody>\n",
       "</table><p>"
      ],
      "text/plain": [
       "<IPython.core.display.HTML object>"
      ]
     },
     "metadata": {},
     "output_type": "display_data"
    },
    {
     "data": {
      "image/png": "[encoded data removed]",
      "text/plain": [
       "<Figure size 432x288 with 1 Axes>"
      ]
     },
     "metadata": {
      "needs_background": "light"
     },
     "output_type": "display_data"
    }
   ],
   "source": [
    "# Initialize a list to store training loss per epoch\n",
    "training_loss_per_epoch = []\n",
    "\n",
    "for epoch in range(training_args.num_train_epochs):\n",
    "    train_output = trainer.train()\n",
    "    training_loss_per_epoch.append(train_output.metrics['train_loss'])\n",
    "\n",
    "# Plot training loss\n",
    "epochs = range(1, len(training_loss_per_epoch) + 1)\n",
    "plt.plot(epochs, training_loss_per_epoch, label='Training Loss')\n",
    "plt.xlabel('Epochs')\n",
    "plt.ylabel('Loss')\n",
    "plt.title('Training Loss Over Epochs')\n",
    "plt.legend()\n",
    "plt.show()\n",
    "\n"
   ]
  },
  {
   "cell_type": "code",
   "execution_count": 25,
   "id": "43a01a55",
   "metadata": {},
   "outputs": [],
   "source": [
    "trainer.save_model(\"./final_model\")\n"
   ]
  },
  {
   "cell_type": "code",
   "execution_count": 26,
   "id": "7431e1fd",
   "metadata": {},
   "outputs": [
    {
     "name": "stdout",
     "output_type": "stream",
     "text": [
      "Tokenized data saved successfully!\n"
     ]
    }
   ],
   "source": [
    "import torch\n",
    "\n",
    "# Save the tokenized data\n",
    "torch.save(train_encodings, \"train_encodings.pt\")\n",
    "torch.save(train_labels, \"train_labels.pt\")\n",
    "torch.save(val_encodings, \"val_encodings.pt\")\n",
    "torch.save(val_labels, \"val_labels.pt\")\n",
    "\n",
    "print(\"Tokenized data saved successfully!\")\n"
   ]
  },
  {
   "cell_type": "code",
   "execution_count": 27,
   "id": "ec4cc0f7",
   "metadata": {},
   "outputs": [
    {
     "name": "stdout",
     "output_type": "stream",
     "text": [
      "Tokenized data loaded successfully!\n"
     ]
    }
   ],
   "source": [
    "# Load the tokenized data\n",
    "train_encodings = torch.load(\"train_encodings.pt\")\n",
    "train_labels = torch.load(\"train_labels.pt\")\n",
    "val_encodings = torch.load(\"val_encodings.pt\")\n",
    "val_labels = torch.load(\"val_labels.pt\")\n",
    "\n",
    "print(\"Tokenized data loaded successfully!\")\n"
   ]
  },
  {
   "cell_type": "code",
   "execution_count": 29,
   "id": "1569156a",
   "metadata": {},
   "outputs": [
    {
     "name": "stdout",
     "output_type": "stream",
     "text": [
      "Prompt: My Fancy Restaurant\n",
      "Generated HTML:\n",
      " !DOCTYPE html> html lang=\"en\"> head> meta charset=\"UTF-8\"> meta name=\"viewport\" content=\"width=device-width, initial-scale=1.0\"> title>My Fancy Restaurant - Home/title> style> body  font-family: Monospace; background: to right, #fcccccccccccccccc, I am a fan\n"
     ]
    }
   ],
   "source": [
    "# Test input\n",
    "test_prompt = \"My Fancy Restaurant\"\n",
    "\n",
    "# Tokenize the input\n",
    "input_ids = tokenizer(test_prompt, return_tensors=\"pt\").input_ids\n",
    "\n",
    "# Generate output from the model\n",
    "output_ids = model.generate(input_ids, max_length=512)\n",
    "\n",
    "# Decode the output to HTML\n",
    "generated_html = tokenizer.decode(output_ids[0], skip_special_tokens=True)\n",
    "\n",
    "# Display the result\n",
    "print(\"Prompt:\", test_prompt)\n",
    "print(\"Generated HTML:\\n\", generated_html)\n"
   ]
  },
  {
   "cell_type": "code",
   "execution_count": null,
   "id": "480de0bf",
   "metadata": {},
   "outputs": [],
   "source": []
  },
  {
   "cell_type": "code",
   "execution_count": null,
   "id": "af7c157b",
   "metadata": {},
   "outputs": [],
   "source": []
  }
 ],
 "metadata": {
  "kernelspec": {
   "display_name": "Python 3 (ipykernel)",
   "language": "python",
   "name": "python3"
  },
  "language_info": {
   "codemirror_mode": {
    "name": "ipython",
    "version": 3
   },
   "file_extension": ".py",
   "mimetype": "text/x-python",
   "name": "python",
   "nbconvert_exporter": "python",
   "pygments_lexer": "ipython3",
   "version": "3.9.12"
  }
 },
 "nbformat": 4,
 "nbformat_minor": 5
}
